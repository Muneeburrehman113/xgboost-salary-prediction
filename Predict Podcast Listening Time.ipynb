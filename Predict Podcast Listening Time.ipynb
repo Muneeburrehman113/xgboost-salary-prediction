{
 "cells": [
  {
   "cell_type": "markdown",
   "id": "37fcb902-51a4-44b3-859f-9dc95662df52",
   "metadata": {},
   "source": [
    "## DATA OVERVIEW"
   ]
  },
  {
   "cell_type": "code",
   "execution_count": 1,
   "id": "75eea78c-497a-49d3-bcec-c50cece6a248",
   "metadata": {},
   "outputs": [],
   "source": [
    "import pandas as pd\n",
    "import numpy as np\n",
    "\n",
    "train_df = pd.read_csv(\"train.csv\")\n",
    "test_df = pd.read_csv(\"test.csv\")"
   ]
  },
  {
   "cell_type": "code",
   "execution_count": 2,
   "id": "a3748ebb-8b54-45b2-9499-3294a4435422",
   "metadata": {},
   "outputs": [
    {
     "data": {
      "text/plain": [
       "(750000, 12)"
      ]
     },
     "execution_count": 2,
     "metadata": {},
     "output_type": "execute_result"
    }
   ],
   "source": [
    "train_df.shape"
   ]
  },
  {
   "cell_type": "code",
   "execution_count": 3,
   "id": "50a61219-980e-4a2b-a9de-339842c478aa",
   "metadata": {},
   "outputs": [
    {
     "data": {
      "text/plain": [
       "(250000, 11)"
      ]
     },
     "execution_count": 3,
     "metadata": {},
     "output_type": "execute_result"
    }
   ],
   "source": [
    "test_df.shape"
   ]
  },
  {
   "cell_type": "code",
   "execution_count": 4,
   "id": "53d19c15-81a5-4d05-b34b-3d05272bf833",
   "metadata": {},
   "outputs": [
    {
     "data": {
      "text/html": [
       "<div>\n",
       "<style scoped>\n",
       "    .dataframe tbody tr th:only-of-type {\n",
       "        vertical-align: middle;\n",
       "    }\n",
       "\n",
       "    .dataframe tbody tr th {\n",
       "        vertical-align: top;\n",
       "    }\n",
       "\n",
       "    .dataframe thead th {\n",
       "        text-align: right;\n",
       "    }\n",
       "</style>\n",
       "<table border=\"1\" class=\"dataframe\">\n",
       "  <thead>\n",
       "    <tr style=\"text-align: right;\">\n",
       "      <th></th>\n",
       "      <th>id</th>\n",
       "      <th>Podcast_Name</th>\n",
       "      <th>Episode_Title</th>\n",
       "      <th>Episode_Length_minutes</th>\n",
       "      <th>Genre</th>\n",
       "      <th>Host_Popularity_percentage</th>\n",
       "      <th>Publication_Day</th>\n",
       "      <th>Publication_Time</th>\n",
       "      <th>Guest_Popularity_percentage</th>\n",
       "      <th>Number_of_Ads</th>\n",
       "      <th>Episode_Sentiment</th>\n",
       "      <th>Listening_Time_minutes</th>\n",
       "    </tr>\n",
       "  </thead>\n",
       "  <tbody>\n",
       "    <tr>\n",
       "      <th>0</th>\n",
       "      <td>0</td>\n",
       "      <td>Mystery Matters</td>\n",
       "      <td>Episode 98</td>\n",
       "      <td>NaN</td>\n",
       "      <td>True Crime</td>\n",
       "      <td>74.81</td>\n",
       "      <td>Thursday</td>\n",
       "      <td>Night</td>\n",
       "      <td>NaN</td>\n",
       "      <td>0.0</td>\n",
       "      <td>Positive</td>\n",
       "      <td>31.41998</td>\n",
       "    </tr>\n",
       "    <tr>\n",
       "      <th>1</th>\n",
       "      <td>1</td>\n",
       "      <td>Joke Junction</td>\n",
       "      <td>Episode 26</td>\n",
       "      <td>119.80</td>\n",
       "      <td>Comedy</td>\n",
       "      <td>66.95</td>\n",
       "      <td>Saturday</td>\n",
       "      <td>Afternoon</td>\n",
       "      <td>75.95</td>\n",
       "      <td>2.0</td>\n",
       "      <td>Negative</td>\n",
       "      <td>88.01241</td>\n",
       "    </tr>\n",
       "    <tr>\n",
       "      <th>2</th>\n",
       "      <td>2</td>\n",
       "      <td>Study Sessions</td>\n",
       "      <td>Episode 16</td>\n",
       "      <td>73.90</td>\n",
       "      <td>Education</td>\n",
       "      <td>69.97</td>\n",
       "      <td>Tuesday</td>\n",
       "      <td>Evening</td>\n",
       "      <td>8.97</td>\n",
       "      <td>0.0</td>\n",
       "      <td>Negative</td>\n",
       "      <td>44.92531</td>\n",
       "    </tr>\n",
       "    <tr>\n",
       "      <th>3</th>\n",
       "      <td>3</td>\n",
       "      <td>Digital Digest</td>\n",
       "      <td>Episode 45</td>\n",
       "      <td>67.17</td>\n",
       "      <td>Technology</td>\n",
       "      <td>57.22</td>\n",
       "      <td>Monday</td>\n",
       "      <td>Morning</td>\n",
       "      <td>78.70</td>\n",
       "      <td>2.0</td>\n",
       "      <td>Positive</td>\n",
       "      <td>46.27824</td>\n",
       "    </tr>\n",
       "    <tr>\n",
       "      <th>4</th>\n",
       "      <td>4</td>\n",
       "      <td>Mind &amp; Body</td>\n",
       "      <td>Episode 86</td>\n",
       "      <td>110.51</td>\n",
       "      <td>Health</td>\n",
       "      <td>80.07</td>\n",
       "      <td>Monday</td>\n",
       "      <td>Afternoon</td>\n",
       "      <td>58.68</td>\n",
       "      <td>3.0</td>\n",
       "      <td>Neutral</td>\n",
       "      <td>75.61031</td>\n",
       "    </tr>\n",
       "  </tbody>\n",
       "</table>\n",
       "</div>"
      ],
      "text/plain": [
       "   id     Podcast_Name Episode_Title  Episode_Length_minutes       Genre  \\\n",
       "0   0  Mystery Matters    Episode 98                     NaN  True Crime   \n",
       "1   1    Joke Junction    Episode 26                  119.80      Comedy   \n",
       "2   2   Study Sessions    Episode 16                   73.90   Education   \n",
       "3   3   Digital Digest    Episode 45                   67.17  Technology   \n",
       "4   4      Mind & Body    Episode 86                  110.51      Health   \n",
       "\n",
       "   Host_Popularity_percentage Publication_Day Publication_Time  \\\n",
       "0                       74.81        Thursday            Night   \n",
       "1                       66.95        Saturday        Afternoon   \n",
       "2                       69.97         Tuesday          Evening   \n",
       "3                       57.22          Monday          Morning   \n",
       "4                       80.07          Monday        Afternoon   \n",
       "\n",
       "   Guest_Popularity_percentage  Number_of_Ads Episode_Sentiment  \\\n",
       "0                          NaN            0.0          Positive   \n",
       "1                        75.95            2.0          Negative   \n",
       "2                         8.97            0.0          Negative   \n",
       "3                        78.70            2.0          Positive   \n",
       "4                        58.68            3.0           Neutral   \n",
       "\n",
       "   Listening_Time_minutes  \n",
       "0                31.41998  \n",
       "1                88.01241  \n",
       "2                44.92531  \n",
       "3                46.27824  \n",
       "4                75.61031  "
      ]
     },
     "execution_count": 4,
     "metadata": {},
     "output_type": "execute_result"
    }
   ],
   "source": [
    "train_df.head()"
   ]
  },
  {
   "cell_type": "code",
   "execution_count": 5,
   "id": "8fc14d16-b067-44bc-a658-c0f2111ec5f9",
   "metadata": {},
   "outputs": [
    {
     "data": {
      "text/html": [
       "<div>\n",
       "<style scoped>\n",
       "    .dataframe tbody tr th:only-of-type {\n",
       "        vertical-align: middle;\n",
       "    }\n",
       "\n",
       "    .dataframe tbody tr th {\n",
       "        vertical-align: top;\n",
       "    }\n",
       "\n",
       "    .dataframe thead th {\n",
       "        text-align: right;\n",
       "    }\n",
       "</style>\n",
       "<table border=\"1\" class=\"dataframe\">\n",
       "  <thead>\n",
       "    <tr style=\"text-align: right;\">\n",
       "      <th></th>\n",
       "      <th>id</th>\n",
       "      <th>Podcast_Name</th>\n",
       "      <th>Episode_Title</th>\n",
       "      <th>Episode_Length_minutes</th>\n",
       "      <th>Genre</th>\n",
       "      <th>Host_Popularity_percentage</th>\n",
       "      <th>Publication_Day</th>\n",
       "      <th>Publication_Time</th>\n",
       "      <th>Guest_Popularity_percentage</th>\n",
       "      <th>Number_of_Ads</th>\n",
       "      <th>Episode_Sentiment</th>\n",
       "    </tr>\n",
       "  </thead>\n",
       "  <tbody>\n",
       "    <tr>\n",
       "      <th>0</th>\n",
       "      <td>750000</td>\n",
       "      <td>Educational Nuggets</td>\n",
       "      <td>Episode 73</td>\n",
       "      <td>78.96</td>\n",
       "      <td>Education</td>\n",
       "      <td>38.11</td>\n",
       "      <td>Saturday</td>\n",
       "      <td>Evening</td>\n",
       "      <td>53.33</td>\n",
       "      <td>1.0</td>\n",
       "      <td>Neutral</td>\n",
       "    </tr>\n",
       "    <tr>\n",
       "      <th>1</th>\n",
       "      <td>750001</td>\n",
       "      <td>Sound Waves</td>\n",
       "      <td>Episode 23</td>\n",
       "      <td>27.87</td>\n",
       "      <td>Music</td>\n",
       "      <td>71.29</td>\n",
       "      <td>Sunday</td>\n",
       "      <td>Morning</td>\n",
       "      <td>NaN</td>\n",
       "      <td>0.0</td>\n",
       "      <td>Neutral</td>\n",
       "    </tr>\n",
       "    <tr>\n",
       "      <th>2</th>\n",
       "      <td>750002</td>\n",
       "      <td>Joke Junction</td>\n",
       "      <td>Episode 11</td>\n",
       "      <td>69.10</td>\n",
       "      <td>Comedy</td>\n",
       "      <td>67.89</td>\n",
       "      <td>Friday</td>\n",
       "      <td>Evening</td>\n",
       "      <td>97.51</td>\n",
       "      <td>0.0</td>\n",
       "      <td>Positive</td>\n",
       "    </tr>\n",
       "    <tr>\n",
       "      <th>3</th>\n",
       "      <td>750003</td>\n",
       "      <td>Comedy Corner</td>\n",
       "      <td>Episode 73</td>\n",
       "      <td>115.39</td>\n",
       "      <td>Comedy</td>\n",
       "      <td>23.40</td>\n",
       "      <td>Sunday</td>\n",
       "      <td>Morning</td>\n",
       "      <td>51.75</td>\n",
       "      <td>2.0</td>\n",
       "      <td>Positive</td>\n",
       "    </tr>\n",
       "    <tr>\n",
       "      <th>4</th>\n",
       "      <td>750004</td>\n",
       "      <td>Life Lessons</td>\n",
       "      <td>Episode 50</td>\n",
       "      <td>72.32</td>\n",
       "      <td>Lifestyle</td>\n",
       "      <td>58.10</td>\n",
       "      <td>Wednesday</td>\n",
       "      <td>Morning</td>\n",
       "      <td>11.30</td>\n",
       "      <td>2.0</td>\n",
       "      <td>Neutral</td>\n",
       "    </tr>\n",
       "  </tbody>\n",
       "</table>\n",
       "</div>"
      ],
      "text/plain": [
       "       id         Podcast_Name Episode_Title  Episode_Length_minutes  \\\n",
       "0  750000  Educational Nuggets    Episode 73                   78.96   \n",
       "1  750001          Sound Waves    Episode 23                   27.87   \n",
       "2  750002        Joke Junction    Episode 11                   69.10   \n",
       "3  750003        Comedy Corner    Episode 73                  115.39   \n",
       "4  750004         Life Lessons    Episode 50                   72.32   \n",
       "\n",
       "       Genre  Host_Popularity_percentage Publication_Day Publication_Time  \\\n",
       "0  Education                       38.11        Saturday          Evening   \n",
       "1      Music                       71.29          Sunday          Morning   \n",
       "2     Comedy                       67.89          Friday          Evening   \n",
       "3     Comedy                       23.40          Sunday          Morning   \n",
       "4  Lifestyle                       58.10       Wednesday          Morning   \n",
       "\n",
       "   Guest_Popularity_percentage  Number_of_Ads Episode_Sentiment  \n",
       "0                        53.33            1.0           Neutral  \n",
       "1                          NaN            0.0           Neutral  \n",
       "2                        97.51            0.0          Positive  \n",
       "3                        51.75            2.0          Positive  \n",
       "4                        11.30            2.0           Neutral  "
      ]
     },
     "execution_count": 5,
     "metadata": {},
     "output_type": "execute_result"
    }
   ],
   "source": [
    "test_df.head()"
   ]
  },
  {
   "cell_type": "code",
   "execution_count": 6,
   "id": "b53029d7-389e-4b6e-b2c2-1fff447b571d",
   "metadata": {},
   "outputs": [
    {
     "name": "stdout",
     "output_type": "stream",
     "text": [
      "<class 'pandas.core.frame.DataFrame'>\n",
      "RangeIndex: 750000 entries, 0 to 749999\n",
      "Data columns (total 12 columns):\n",
      " #   Column                       Non-Null Count   Dtype  \n",
      "---  ------                       --------------   -----  \n",
      " 0   id                           750000 non-null  int64  \n",
      " 1   Podcast_Name                 750000 non-null  object \n",
      " 2   Episode_Title                750000 non-null  object \n",
      " 3   Episode_Length_minutes       662907 non-null  float64\n",
      " 4   Genre                        750000 non-null  object \n",
      " 5   Host_Popularity_percentage   750000 non-null  float64\n",
      " 6   Publication_Day              750000 non-null  object \n",
      " 7   Publication_Time             750000 non-null  object \n",
      " 8   Guest_Popularity_percentage  603970 non-null  float64\n",
      " 9   Number_of_Ads                749999 non-null  float64\n",
      " 10  Episode_Sentiment            750000 non-null  object \n",
      " 11  Listening_Time_minutes       750000 non-null  float64\n",
      "dtypes: float64(5), int64(1), object(6)\n",
      "memory usage: 68.7+ MB\n"
     ]
    }
   ],
   "source": [
    "train_df.info()"
   ]
  },
  {
   "cell_type": "code",
   "execution_count": 7,
   "id": "695eccdd-1ba9-403c-90b6-a35c1e595f4e",
   "metadata": {},
   "outputs": [
    {
     "name": "stdout",
     "output_type": "stream",
     "text": [
      "<class 'pandas.core.frame.DataFrame'>\n",
      "RangeIndex: 250000 entries, 0 to 249999\n",
      "Data columns (total 11 columns):\n",
      " #   Column                       Non-Null Count   Dtype  \n",
      "---  ------                       --------------   -----  \n",
      " 0   id                           250000 non-null  int64  \n",
      " 1   Podcast_Name                 250000 non-null  object \n",
      " 2   Episode_Title                250000 non-null  object \n",
      " 3   Episode_Length_minutes       221264 non-null  float64\n",
      " 4   Genre                        250000 non-null  object \n",
      " 5   Host_Popularity_percentage   250000 non-null  float64\n",
      " 6   Publication_Day              250000 non-null  object \n",
      " 7   Publication_Time             250000 non-null  object \n",
      " 8   Guest_Popularity_percentage  201168 non-null  float64\n",
      " 9   Number_of_Ads                250000 non-null  float64\n",
      " 10  Episode_Sentiment            250000 non-null  object \n",
      "dtypes: float64(4), int64(1), object(6)\n",
      "memory usage: 21.0+ MB\n"
     ]
    }
   ],
   "source": [
    "test_df.info()"
   ]
  },
  {
   "cell_type": "markdown",
   "id": "d2477c7f-2df3-4692-9721-875354924b6a",
   "metadata": {},
   "source": [
    "### EDA(Exploratory Data Analysis)"
   ]
  },
  {
   "cell_type": "markdown",
   "id": "e7c28834-fb86-4c9b-bcbe-8b89652237b7",
   "metadata": {},
   "source": [
    "#### MISSING VALUES"
   ]
  },
  {
   "cell_type": "code",
   "execution_count": 8,
   "id": "d2d855ce-1eb6-4939-bb75-8d7748364ede",
   "metadata": {},
   "outputs": [
    {
     "data": {
      "text/html": [
       "<div>\n",
       "<style scoped>\n",
       "    .dataframe tbody tr th:only-of-type {\n",
       "        vertical-align: middle;\n",
       "    }\n",
       "\n",
       "    .dataframe tbody tr th {\n",
       "        vertical-align: top;\n",
       "    }\n",
       "\n",
       "    .dataframe thead th {\n",
       "        text-align: right;\n",
       "    }\n",
       "</style>\n",
       "<table border=\"1\" class=\"dataframe\">\n",
       "  <thead>\n",
       "    <tr style=\"text-align: right;\">\n",
       "      <th></th>\n",
       "      <th>Train Missing</th>\n",
       "      <th>Test Missing</th>\n",
       "      <th>Train %</th>\n",
       "    </tr>\n",
       "  </thead>\n",
       "  <tbody>\n",
       "    <tr>\n",
       "      <th>Episode_Length_minutes</th>\n",
       "      <td>87093</td>\n",
       "      <td>28736.0</td>\n",
       "      <td>11.49</td>\n",
       "    </tr>\n",
       "    <tr>\n",
       "      <th>Episode_Sentiment</th>\n",
       "      <td>0</td>\n",
       "      <td>0.0</td>\n",
       "      <td>0.00</td>\n",
       "    </tr>\n",
       "    <tr>\n",
       "      <th>Episode_Title</th>\n",
       "      <td>0</td>\n",
       "      <td>0.0</td>\n",
       "      <td>0.00</td>\n",
       "    </tr>\n",
       "    <tr>\n",
       "      <th>Genre</th>\n",
       "      <td>0</td>\n",
       "      <td>0.0</td>\n",
       "      <td>0.00</td>\n",
       "    </tr>\n",
       "    <tr>\n",
       "      <th>Guest_Popularity_percentage</th>\n",
       "      <td>146030</td>\n",
       "      <td>48832.0</td>\n",
       "      <td>19.53</td>\n",
       "    </tr>\n",
       "    <tr>\n",
       "      <th>Host_Popularity_percentage</th>\n",
       "      <td>0</td>\n",
       "      <td>0.0</td>\n",
       "      <td>0.00</td>\n",
       "    </tr>\n",
       "    <tr>\n",
       "      <th>Listening_Time_minutes</th>\n",
       "      <td>0</td>\n",
       "      <td>NaN</td>\n",
       "      <td>NaN</td>\n",
       "    </tr>\n",
       "    <tr>\n",
       "      <th>Number_of_Ads</th>\n",
       "      <td>1</td>\n",
       "      <td>0.0</td>\n",
       "      <td>0.00</td>\n",
       "    </tr>\n",
       "    <tr>\n",
       "      <th>Podcast_Name</th>\n",
       "      <td>0</td>\n",
       "      <td>0.0</td>\n",
       "      <td>0.00</td>\n",
       "    </tr>\n",
       "    <tr>\n",
       "      <th>Publication_Day</th>\n",
       "      <td>0</td>\n",
       "      <td>0.0</td>\n",
       "      <td>0.00</td>\n",
       "    </tr>\n",
       "    <tr>\n",
       "      <th>Publication_Time</th>\n",
       "      <td>0</td>\n",
       "      <td>0.0</td>\n",
       "      <td>0.00</td>\n",
       "    </tr>\n",
       "    <tr>\n",
       "      <th>id</th>\n",
       "      <td>0</td>\n",
       "      <td>0.0</td>\n",
       "      <td>0.00</td>\n",
       "    </tr>\n",
       "  </tbody>\n",
       "</table>\n",
       "</div>"
      ],
      "text/plain": [
       "                             Train Missing  Test Missing  Train %\n",
       "Episode_Length_minutes               87093       28736.0    11.49\n",
       "Episode_Sentiment                        0           0.0     0.00\n",
       "Episode_Title                            0           0.0     0.00\n",
       "Genre                                    0           0.0     0.00\n",
       "Guest_Popularity_percentage         146030       48832.0    19.53\n",
       "Host_Popularity_percentage               0           0.0     0.00\n",
       "Listening_Time_minutes                   0           NaN      NaN\n",
       "Number_of_Ads                            1           0.0     0.00\n",
       "Podcast_Name                             0           0.0     0.00\n",
       "Publication_Day                          0           0.0     0.00\n",
       "Publication_Time                         0           0.0     0.00\n",
       "id                                       0           0.0     0.00"
      ]
     },
     "execution_count": 8,
     "metadata": {},
     "output_type": "execute_result"
    }
   ],
   "source": [
    "train_missing = train_df.isnull().sum()\n",
    "test_missing = test_df.isnull().sum()\n",
    "\n",
    "missing_df = pd.DataFrame({\n",
    "    \"Train Missing\": train_missing,\n",
    "    \"Test Missing\": test_missing\n",
    "})\n",
    "\n",
    "missing_df[\"Train %\"] = (missing_df[\"Train Missing\"] / len(train_df) * 100).round(2)\n",
    "missing_df[\"Train %\"] = (missing_df[\"Test Missing\"] / len(test_df) * 100).round(2)\n",
    "\n",
    "missing_df"
   ]
  },
  {
   "cell_type": "markdown",
   "id": "6e599f27-748b-4fcf-ae75-843542fef1c7",
   "metadata": {},
   "source": [
    "#### Unique Values counts for categorical columns"
   ]
  },
  {
   "cell_type": "code",
   "execution_count": 9,
   "id": "5af2ff9c-3086-438d-aa56-c0708b6968a1",
   "metadata": {},
   "outputs": [
    {
     "name": "stdout",
     "output_type": "stream",
     "text": [
      "Podcast_Name - 48 unique values\n",
      "['Mystery Matters' 'Joke Junction' 'Study Sessions' 'Digital Digest'\n",
      " 'Mind & Body' 'Fitness First' 'Criminal Minds' 'News Roundup'\n",
      " 'Daily Digest' 'Music Matters' 'Sports Central' 'Melody Mix' 'Game Day'\n",
      " 'Gadget Geek' 'Global News' 'Tech Talks' 'Sport Spot' 'Funny Folks'\n",
      " 'Sports Weekly' 'Business Briefs' 'Tech Trends' 'Innovators'\n",
      " 'Health Hour' 'Comedy Corner' 'Sound Waves' 'Brain Boost'\n",
      " \"Athlete's Arena\" 'Wellness Wave' 'Style Guide' 'World Watch' 'Humor Hub'\n",
      " 'Money Matters' 'Healthy Living' 'Home & Living' 'Educational Nuggets'\n",
      " 'Market Masters' 'Learning Lab' 'Lifestyle Lounge' 'Crime Chronicles'\n",
      " 'Detective Diaries' 'Life Lessons' 'Current Affairs' 'Finance Focus'\n",
      " 'Laugh Line' 'True Crime Stories' 'Business Insights' 'Fashion Forward'\n",
      " 'Tune Time']\n",
      "--------------------------------------------------\n",
      "Episode_Title - 100 unique values\n",
      "['Episode 98' 'Episode 26' 'Episode 16' 'Episode 45' 'Episode 86'\n",
      " 'Episode 19' 'Episode 47' 'Episode 44' 'Episode 32' 'Episode 81'\n",
      " 'Episode 66' 'Episode 62' 'Episode 76' 'Episode 37' 'Episode 20'\n",
      " 'Episode 82' 'Episode 72' 'Episode 61' 'Episode 100' 'Episode 54'\n",
      " 'Episode 17' 'Episode 36' 'Episode 97' 'Episode 27' 'Episode 31'\n",
      " 'Episode 88' 'Episode 38' 'Episode 92' 'Episode 74' 'Episode 30'\n",
      " 'Episode 63' 'Episode 67' 'Episode 77' 'Episode 4' 'Episode 93'\n",
      " 'Episode 24' 'Episode 1' 'Episode 2' 'Episode 25' 'Episode 56'\n",
      " 'Episode 75' 'Episode 12' 'Episode 21' 'Episode 6' 'Episode 85'\n",
      " 'Episode 23' 'Episode 33' 'Episode 7' 'Episode 53' 'Episode 15'\n",
      " 'Episode 43' 'Episode 71' 'Episode 69' 'Episode 13' 'Episode 89'\n",
      " 'Episode 3' 'Episode 64' 'Episode 73' 'Episode 79' 'Episode 94'\n",
      " 'Episode 80' 'Episode 42' 'Episode 10' 'Episode 48' 'Episode 96'\n",
      " 'Episode 40' 'Episode 49' 'Episode 9' 'Episode 50' 'Episode 78'\n",
      " 'Episode 84' 'Episode 87' 'Episode 58' 'Episode 57' 'Episode 59'\n",
      " 'Episode 39' 'Episode 46' 'Episode 91' 'Episode 35' 'Episode 8'\n",
      " 'Episode 90' 'Episode 5' 'Episode 65' 'Episode 11' 'Episode 51'\n",
      " 'Episode 99' 'Episode 14' 'Episode 41' 'Episode 18' 'Episode 95'\n",
      " 'Episode 83' 'Episode 55' 'Episode 29' 'Episode 68' 'Episode 34'\n",
      " 'Episode 22' 'Episode 60' 'Episode 52' 'Episode 28' 'Episode 70']\n",
      "--------------------------------------------------\n",
      "Genre - 10 unique values\n",
      "['True Crime' 'Comedy' 'Education' 'Technology' 'Health' 'News' 'Music'\n",
      " 'Sports' 'Business' 'Lifestyle']\n",
      "--------------------------------------------------\n",
      "Publication_Day - 7 unique values\n",
      "['Thursday' 'Saturday' 'Tuesday' 'Monday' 'Sunday' 'Wednesday' 'Friday']\n",
      "--------------------------------------------------\n",
      "Publication_Time - 4 unique values\n",
      "['Night' 'Afternoon' 'Evening' 'Morning']\n",
      "--------------------------------------------------\n",
      "Episode_Sentiment - 3 unique values\n",
      "['Positive' 'Negative' 'Neutral']\n",
      "--------------------------------------------------\n"
     ]
    }
   ],
   "source": [
    "categorical_cols = train_df.select_dtypes(include = [\"object\"]).columns\n",
    "\n",
    "for col in categorical_cols:\n",
    "    print(f\"{col} - {train_df[col].nunique()} unique values\")\n",
    "    print(train_df[col].unique())\n",
    "    print(\"-\" * 50)"
   ]
  },
  {
   "cell_type": "markdown",
   "id": "18e4817a-ecf9-4889-98c2-2202f344bfea",
   "metadata": {},
   "source": [
    "#### Target Variable Analysis"
   ]
  },
  {
   "cell_type": "code",
   "execution_count": 10,
   "id": "9f6acb8b-3c3c-421a-ae88-1889ed878849",
   "metadata": {},
   "outputs": [
    {
     "data": {
      "image/png": "[encoded data removed]",
      "text/plain": [
       "<Figure size 800x500 with 1 Axes>"
      ]
     },
     "metadata": {},
     "output_type": "display_data"
    },
    {
     "data": {
      "text/plain": [
       "count    750000.000000\n",
       "mean         45.437406\n",
       "std          27.138306\n",
       "min           0.000000\n",
       "25%          23.178350\n",
       "50%          43.379460\n",
       "75%          64.811580\n",
       "max         119.970000\n",
       "Name: Listening_Time_minutes, dtype: float64"
      ]
     },
     "execution_count": 10,
     "metadata": {},
     "output_type": "execute_result"
    }
   ],
   "source": [
    "import matplotlib.pyplot as plt\n",
    "import seaborn as sns\n",
    "\n",
    "plt.figure(figsize = (8 , 5))\n",
    "sns.histplot(train_df[\"Listening_Time_minutes\"], kde = True , bins = 50)\n",
    "plt.title(\"Distribution of Listening Time (minutes)\" , fontsize = 24)\n",
    "plt.xlabel(\"Listening Time (minutes)\")\n",
    "plt.ylabel(\"Frequency\")\n",
    "plt.show()\n",
    "\n",
    "train_df[\"Listening_Time_minutes\"].describe()"
   ]
  },
  {
   "cell_type": "markdown",
   "id": "b52df5d6-1c59-4d5a-8b69-0d19f2b4dc76",
   "metadata": {},
   "source": [
    "#### Categorical Feature Exploration"
   ]
  },
  {
   "cell_type": "code",
   "execution_count": 11,
   "id": "5c4b3fb9-5475-49c8-a95e-14293403b89b",
   "metadata": {},
   "outputs": [
    {
     "data": {
      "image/png": "[encoded data removed]",
      "text/plain": [
       "<Figure size 1200x600 with 1 Axes>"
      ]
     },
     "metadata": {},
     "output_type": "display_data"
    },
    {
     "data": {
      "text/plain": [
       "Genre\n",
       "Music         46.578394\n",
       "True Crime    46.042507\n",
       "Health        45.741413\n",
       "Education     45.736640\n",
       "Technology    45.634749\n",
       "Business      45.538151\n",
       "Lifestyle     45.523117\n",
       "Sports        44.935722\n",
       "Comedy        44.426441\n",
       "News          44.406144\n",
       "Name: Listening_Time_minutes, dtype: float64"
      ]
     },
     "execution_count": 11,
     "metadata": {},
     "output_type": "execute_result"
    }
   ],
   "source": [
    "plt.figure(figsize = (12 , 6))\n",
    "sns.boxplot(data = train_df , x = \"Genre\" , y = \"Listening_Time_minutes\")\n",
    "plt.xticks(rotation = 45)\n",
    "plt.title(\"Listening Time By Genre\" , fontsize = 14)\n",
    "plt.show()\n",
    "\n",
    "train_df.groupby(\"Genre\")[\"Listening_Time_minutes\"].mean().sort_values(ascending = False)"
   ]
  },
  {
   "cell_type": "markdown",
   "id": "666b776d-fb45-4fe5-992a-cbe69ee8d8f0",
   "metadata": {},
   "source": [
    "#### Listening Time by Publication Day"
   ]
  },
  {
   "cell_type": "code",
   "execution_count": 12,
   "id": "9515ce49-5f5c-4f6b-ab6e-d7de7cf4fd6e",
   "metadata": {},
   "outputs": [
    {
     "data": {
      "image/png": "[encoded data removed]",
      "text/plain": [
       "<Figure size 1000x500 with 1 Axes>"
      ]
     },
     "metadata": {},
     "output_type": "display_data"
    },
    {
     "data": {
      "text/plain": [
       "Publication_Day\n",
       "Tuesday      46.131411\n",
       "Monday       45.969630\n",
       "Wednesday    45.807177\n",
       "Saturday     45.326775\n",
       "Friday       45.206591\n",
       "Thursday     44.869706\n",
       "Sunday       44.817398\n",
       "Name: Listening_Time_minutes, dtype: float64"
      ]
     },
     "execution_count": 12,
     "metadata": {},
     "output_type": "execute_result"
    }
   ],
   "source": [
    "plt.figure(figsize = (10 , 5))\n",
    "sns.boxplot(data = train_df  , x = \"Publication_Day\"  , y = \"Listening_Time_minutes\" , order = [\"Monday\" , \"Tuesday\" , \"Wednesday\" , \"Thursday\" , \"Friday\" , \"Saturday\" , \"Sunday\"])\n",
    "plt.title(\"Listening Time by Publication Day\" , fontsize = 14)\n",
    "plt.show()\n",
    "\n",
    "train_df.groupby(\"Publication_Day\")[\"Listening_Time_minutes\"].mean().sort_values(ascending = False)"
   ]
  },
  {
   "cell_type": "markdown",
   "id": "4398920e-39cf-4230-b309-14795c5bbb1c",
   "metadata": {},
   "source": [
    "#### Listening Time By Publication Time"
   ]
  },
  {
   "cell_type": "code",
   "execution_count": 13,
   "id": "b301157b-985a-4437-8467-a1f921e032a6",
   "metadata": {},
   "outputs": [
    {
     "data": {
      "image/png": "[encoded data removed]",
      "text/plain": [
       "<Figure size 1000x500 with 1 Axes>"
      ]
     },
     "metadata": {},
     "output_type": "display_data"
    },
    {
     "data": {
      "text/plain": [
       "Publication_Time\n",
       "Night        46.456655\n",
       "Afternoon    45.525603\n",
       "Morning      44.964415\n",
       "Evening      44.761567\n",
       "Name: Listening_Time_minutes, dtype: float64"
      ]
     },
     "execution_count": 13,
     "metadata": {},
     "output_type": "execute_result"
    }
   ],
   "source": [
    "plt.figure(figsize = (10 , 5))\n",
    "sns.boxplot(data = train_df , x = \"Publication_Time\" , y = \"Listening_Time_minutes\" , order = [\"Morning\" , \"Afternoon\" , \"Evening\" , \"Night\"])\n",
    "plt.title(\"Listening Time By Pyblication Time\" , fontsize = 14)\n",
    "plt.show()\n",
    "\n",
    "train_df.groupby(\"Publication_Time\")[\"Listening_Time_minutes\"].mean().sort_values(ascending = False)"
   ]
  },
  {
   "cell_type": "markdown",
   "id": "928891b1-bdc6-473b-96e7-245257f0b9cb",
   "metadata": {},
   "source": [
    "#### Correlation Between Numerical Features "
   ]
  },
  {
   "cell_type": "code",
   "execution_count": 14,
   "id": "eebf350a-5c78-4888-b640-a31411c7c914",
   "metadata": {},
   "outputs": [
    {
     "data": {
      "image/png": "[encoded data removed]",
      "text/plain": [
       "<Figure size 800x600 with 2 Axes>"
      ]
     },
     "metadata": {},
     "output_type": "display_data"
    },
    {
     "data": {
      "text/plain": [
       "Listening_Time_minutes         1.000000\n",
       "Episode_Length_minutes         0.916749\n",
       "Host_Popularity_percentage     0.050870\n",
       "Guest_Popularity_percentage   -0.016014\n",
       "Number_of_Ads                 -0.118337\n",
       "Name: Listening_Time_minutes, dtype: float64"
      ]
     },
     "execution_count": 14,
     "metadata": {},
     "output_type": "execute_result"
    }
   ],
   "source": [
    "numerical_cols = [\"Episode_Length_minutes\" , \"Host_Popularity_percentage\" , \"Guest_Popularity_percentage\" , \"Number_of_Ads\" , \"Listening_Time_minutes\"]\n",
    "corr_matrix = train_df[numerical_cols].corr()\n",
    "\n",
    "plt.figure(figsize = (8 , 6))\n",
    "sns.heatmap(corr_matrix , annot = True , cmap = \"coolwarm\" , fmt = \".2f\")\n",
    "plt.title(\"Correlation Matrix\")\n",
    "plt.show()\n",
    "\n",
    "train_df[numerical_cols].corr()[\"Listening_Time_minutes\"].sort_values(ascending = False)"
   ]
  },
  {
   "cell_type": "markdown",
   "id": "6dc9d00a-3c87-4cf4-8164-1b291b772b47",
   "metadata": {},
   "source": [
    "### Outlier Detection"
   ]
  },
  {
   "cell_type": "code",
   "execution_count": 15,
   "id": "19019e06-ac71-4d53-8788-c076af6fb03d",
   "metadata": {},
   "outputs": [
    {
     "data": {
      "text/plain": [
       "Index(['id', 'Episode_Length_minutes', 'Host_Popularity_percentage',\n",
       "       'Guest_Popularity_percentage', 'Number_of_Ads',\n",
       "       'Listening_Time_minutes'],\n",
       "      dtype='object')"
      ]
     },
     "execution_count": 15,
     "metadata": {},
     "output_type": "execute_result"
    }
   ],
   "source": [
    "numerical_cols = train_df.select_dtypes(include = [\"float64\" , \"int64\"]).columns\n",
    "numerical_cols"
   ]
  },
  {
   "cell_type": "code",
   "execution_count": 16,
   "id": "b6f5eac4-5fd1-48ed-b03f-b9a2f9ef4cc4",
   "metadata": {},
   "outputs": [
    {
     "data": {
      "text/plain": [
       "1"
      ]
     },
     "execution_count": 16,
     "metadata": {},
     "output_type": "execute_result"
    }
   ],
   "source": [
    "Q1 = train_df[\"Episode_Length_minutes\"].quantile(0.25)\n",
    "Q3 = train_df[\"Episode_Length_minutes\"].quantile(0.75)\n",
    "\n",
    "IQR = Q3 - Q1\n",
    "\n",
    "lower_bound = Q1 - 1.5 * IQR\n",
    "upper_bound = Q3 + 1.5 * IQR\n",
    "\n",
    "outliers_episode_length = train_df[\n",
    "    (train_df[\"Episode_Length_minutes\"] < lower_bound) |\n",
    "    (train_df[\"Episode_Length_minutes\"] > upper_bound)\n",
    "]\n",
    "len(outliers_episode_length)"
   ]
  },
  {
   "cell_type": "code",
   "execution_count": 17,
   "id": "77162d3c-b2b4-4011-9724-876da7acb06b",
   "metadata": {},
   "outputs": [
    {
     "data": {
      "text/plain": [
       "0"
      ]
     },
     "execution_count": 17,
     "metadata": {},
     "output_type": "execute_result"
    }
   ],
   "source": [
    "Q1 = train_df[\"Host_Popularity_percentage\"].quantile(0.25)\n",
    "Q3 = train_df[\"Host_Popularity_percentage\"].quantile(0.75)\n",
    "\n",
    "IQR = Q3 - Q1\n",
    "\n",
    "lower_bound = Q1 - 1.5 * IQR\n",
    "upper_bound = Q3 + 1.5 * IQR\n",
    "\n",
    "outliers_host_popularity = train_df[\n",
    "    (train_df[\"Host_Popularity_percentage\"] < lower_bound) |\n",
    "    (train_df[\"Host_Popularity_percentage\"] > upper_bound)\n",
    "]\n",
    "len(outliers_host_popularity)"
   ]
  },
  {
   "cell_type": "code",
   "execution_count": 18,
   "id": "d963bd8a-3c83-484b-8dcd-1f48aa51d08d",
   "metadata": {},
   "outputs": [
    {
     "data": {
      "text/plain": [
       "9"
      ]
     },
     "execution_count": 18,
     "metadata": {},
     "output_type": "execute_result"
    }
   ],
   "source": [
    "Q1 = train_df[\"Number_of_Ads\"].quantile(0.25)\n",
    "Q3 = train_df[\"Number_of_Ads\"].quantile(0.75)\n",
    "\n",
    "IQR = Q3 - Q1\n",
    "\n",
    "lower_bound = Q1 - 1.5 * IQR\n",
    "upper_bound = Q3 + 1.5 * IQR\n",
    "\n",
    "outliers_ads = train_df[\n",
    "    (train_df[\"Number_of_Ads\"] < lower_bound) |\n",
    "    (train_df[\"Number_of_Ads\"] > upper_bound)\n",
    "]\n",
    "len(outliers_ads)"
   ]
  },
  {
   "cell_type": "markdown",
   "id": "8c364322-7202-433d-aa9b-a43adfd66a27",
   "metadata": {},
   "source": [
    "# Data Preprocessing"
   ]
  },
  {
   "cell_type": "markdown",
   "id": "ed35ff8b-9938-47ca-bd22-b00488800f18",
   "metadata": {},
   "source": [
    "#### Handle Categorical Variables"
   ]
  },
  {
   "cell_type": "code",
   "execution_count": 19,
   "id": "7c927f9c-bf60-4c30-89bd-1675d96807c4",
   "metadata": {},
   "outputs": [
    {
     "name": "stdout",
     "output_type": "stream",
     "text": [
      "Shape before encoding: (750000, 12)\n",
      "Shape after encoding: (750000, 21)\n"
     ]
    },
    {
     "data": {
      "text/html": [
       "<div>\n",
       "<style scoped>\n",
       "    .dataframe tbody tr th:only-of-type {\n",
       "        vertical-align: middle;\n",
       "    }\n",
       "\n",
       "    .dataframe tbody tr th {\n",
       "        vertical-align: top;\n",
       "    }\n",
       "\n",
       "    .dataframe thead th {\n",
       "        text-align: right;\n",
       "    }\n",
       "</style>\n",
       "<table border=\"1\" class=\"dataframe\">\n",
       "  <thead>\n",
       "    <tr style=\"text-align: right;\">\n",
       "      <th></th>\n",
       "      <th>id</th>\n",
       "      <th>Podcast_Name</th>\n",
       "      <th>Episode_Title</th>\n",
       "      <th>Episode_Length_minutes</th>\n",
       "      <th>Genre</th>\n",
       "      <th>Host_Popularity_percentage</th>\n",
       "      <th>Guest_Popularity_percentage</th>\n",
       "      <th>Number_of_Ads</th>\n",
       "      <th>Episode_Sentiment</th>\n",
       "      <th>Listening_Time_minutes</th>\n",
       "      <th>...</th>\n",
       "      <th>Publication_Day_Monday</th>\n",
       "      <th>Publication_Day_Saturday</th>\n",
       "      <th>Publication_Day_Sunday</th>\n",
       "      <th>Publication_Day_Thursday</th>\n",
       "      <th>Publication_Day_Tuesday</th>\n",
       "      <th>Publication_Day_Wednesday</th>\n",
       "      <th>Publication_Time_Afternoon</th>\n",
       "      <th>Publication_Time_Evening</th>\n",
       "      <th>Publication_Time_Morning</th>\n",
       "      <th>Publication_Time_Night</th>\n",
       "    </tr>\n",
       "  </thead>\n",
       "  <tbody>\n",
       "    <tr>\n",
       "      <th>0</th>\n",
       "      <td>0</td>\n",
       "      <td>Mystery Matters</td>\n",
       "      <td>Episode 98</td>\n",
       "      <td>NaN</td>\n",
       "      <td>True Crime</td>\n",
       "      <td>74.81</td>\n",
       "      <td>NaN</td>\n",
       "      <td>0.0</td>\n",
       "      <td>Positive</td>\n",
       "      <td>31.41998</td>\n",
       "      <td>...</td>\n",
       "      <td>False</td>\n",
       "      <td>False</td>\n",
       "      <td>False</td>\n",
       "      <td>True</td>\n",
       "      <td>False</td>\n",
       "      <td>False</td>\n",
       "      <td>False</td>\n",
       "      <td>False</td>\n",
       "      <td>False</td>\n",
       "      <td>True</td>\n",
       "    </tr>\n",
       "    <tr>\n",
       "      <th>1</th>\n",
       "      <td>1</td>\n",
       "      <td>Joke Junction</td>\n",
       "      <td>Episode 26</td>\n",
       "      <td>119.80</td>\n",
       "      <td>Comedy</td>\n",
       "      <td>66.95</td>\n",
       "      <td>75.95</td>\n",
       "      <td>2.0</td>\n",
       "      <td>Negative</td>\n",
       "      <td>88.01241</td>\n",
       "      <td>...</td>\n",
       "      <td>False</td>\n",
       "      <td>True</td>\n",
       "      <td>False</td>\n",
       "      <td>False</td>\n",
       "      <td>False</td>\n",
       "      <td>False</td>\n",
       "      <td>True</td>\n",
       "      <td>False</td>\n",
       "      <td>False</td>\n",
       "      <td>False</td>\n",
       "    </tr>\n",
       "    <tr>\n",
       "      <th>2</th>\n",
       "      <td>2</td>\n",
       "      <td>Study Sessions</td>\n",
       "      <td>Episode 16</td>\n",
       "      <td>73.90</td>\n",
       "      <td>Education</td>\n",
       "      <td>69.97</td>\n",
       "      <td>8.97</td>\n",
       "      <td>0.0</td>\n",
       "      <td>Negative</td>\n",
       "      <td>44.92531</td>\n",
       "      <td>...</td>\n",
       "      <td>False</td>\n",
       "      <td>False</td>\n",
       "      <td>False</td>\n",
       "      <td>False</td>\n",
       "      <td>True</td>\n",
       "      <td>False</td>\n",
       "      <td>False</td>\n",
       "      <td>True</td>\n",
       "      <td>False</td>\n",
       "      <td>False</td>\n",
       "    </tr>\n",
       "    <tr>\n",
       "      <th>3</th>\n",
       "      <td>3</td>\n",
       "      <td>Digital Digest</td>\n",
       "      <td>Episode 45</td>\n",
       "      <td>67.17</td>\n",
       "      <td>Technology</td>\n",
       "      <td>57.22</td>\n",
       "      <td>78.70</td>\n",
       "      <td>2.0</td>\n",
       "      <td>Positive</td>\n",
       "      <td>46.27824</td>\n",
       "      <td>...</td>\n",
       "      <td>True</td>\n",
       "      <td>False</td>\n",
       "      <td>False</td>\n",
       "      <td>False</td>\n",
       "      <td>False</td>\n",
       "      <td>False</td>\n",
       "      <td>False</td>\n",
       "      <td>False</td>\n",
       "      <td>True</td>\n",
       "      <td>False</td>\n",
       "    </tr>\n",
       "    <tr>\n",
       "      <th>4</th>\n",
       "      <td>4</td>\n",
       "      <td>Mind &amp; Body</td>\n",
       "      <td>Episode 86</td>\n",
       "      <td>110.51</td>\n",
       "      <td>Health</td>\n",
       "      <td>80.07</td>\n",
       "      <td>58.68</td>\n",
       "      <td>3.0</td>\n",
       "      <td>Neutral</td>\n",
       "      <td>75.61031</td>\n",
       "      <td>...</td>\n",
       "      <td>True</td>\n",
       "      <td>False</td>\n",
       "      <td>False</td>\n",
       "      <td>False</td>\n",
       "      <td>False</td>\n",
       "      <td>False</td>\n",
       "      <td>True</td>\n",
       "      <td>False</td>\n",
       "      <td>False</td>\n",
       "      <td>False</td>\n",
       "    </tr>\n",
       "  </tbody>\n",
       "</table>\n",
       "<p>5 rows × 21 columns</p>\n",
       "</div>"
      ],
      "text/plain": [
       "   id     Podcast_Name Episode_Title  Episode_Length_minutes       Genre  \\\n",
       "0   0  Mystery Matters    Episode 98                     NaN  True Crime   \n",
       "1   1    Joke Junction    Episode 26                  119.80      Comedy   \n",
       "2   2   Study Sessions    Episode 16                   73.90   Education   \n",
       "3   3   Digital Digest    Episode 45                   67.17  Technology   \n",
       "4   4      Mind & Body    Episode 86                  110.51      Health   \n",
       "\n",
       "   Host_Popularity_percentage  Guest_Popularity_percentage  Number_of_Ads  \\\n",
       "0                       74.81                          NaN            0.0   \n",
       "1                       66.95                        75.95            2.0   \n",
       "2                       69.97                         8.97            0.0   \n",
       "3                       57.22                        78.70            2.0   \n",
       "4                       80.07                        58.68            3.0   \n",
       "\n",
       "  Episode_Sentiment  Listening_Time_minutes  ...  Publication_Day_Monday  \\\n",
       "0          Positive                31.41998  ...                   False   \n",
       "1          Negative                88.01241  ...                   False   \n",
       "2          Negative                44.92531  ...                   False   \n",
       "3          Positive                46.27824  ...                    True   \n",
       "4           Neutral                75.61031  ...                    True   \n",
       "\n",
       "   Publication_Day_Saturday  Publication_Day_Sunday  Publication_Day_Thursday  \\\n",
       "0                     False                   False                      True   \n",
       "1                      True                   False                     False   \n",
       "2                     False                   False                     False   \n",
       "3                     False                   False                     False   \n",
       "4                     False                   False                     False   \n",
       "\n",
       "   Publication_Day_Tuesday  Publication_Day_Wednesday  \\\n",
       "0                    False                      False   \n",
       "1                    False                      False   \n",
       "2                     True                      False   \n",
       "3                    False                      False   \n",
       "4                    False                      False   \n",
       "\n",
       "   Publication_Time_Afternoon  Publication_Time_Evening  \\\n",
       "0                       False                     False   \n",
       "1                        True                     False   \n",
       "2                       False                      True   \n",
       "3                       False                     False   \n",
       "4                        True                     False   \n",
       "\n",
       "   Publication_Time_Morning  Publication_Time_Night  \n",
       "0                     False                    True  \n",
       "1                     False                   False  \n",
       "2                     False                   False  \n",
       "3                      True                   False  \n",
       "4                     False                   False  \n",
       "\n",
       "[5 rows x 21 columns]"
      ]
     },
     "execution_count": 19,
     "metadata": {},
     "output_type": "execute_result"
    }
   ],
   "source": [
    "import pandas as pd\n",
    "\n",
    "df_encoded = pd.get_dummies(train_df , columns = [\"Publication_Day\" , \"Publication_Time\"] , drop_first = False)\n",
    "\n",
    "print(\"Shape before encoding:\" , train_df.shape)\n",
    "print(\"Shape after encoding:\" , df_encoded.shape)\n",
    "\n",
    "df_encoded.head()"
   ]
  },
  {
   "cell_type": "markdown",
   "id": "2c11a51d-9dd0-40b2-956e-55ca69f88c8f",
   "metadata": {},
   "source": [
    "#### Handle numerical values (Missing Values)"
   ]
  },
  {
   "cell_type": "code",
   "execution_count": 20,
   "id": "ee3cfbd0-bf82-410a-a980-cbf60aff68da",
   "metadata": {},
   "outputs": [
    {
     "data": {
      "text/plain": [
       "Episode_Length_minutes         0\n",
       "Host_Popularity_percentage     0\n",
       "Guest_Popularity_percentage    0\n",
       "Number_of_Ads                  0\n",
       "dtype: int64"
      ]
     },
     "execution_count": 20,
     "metadata": {},
     "output_type": "execute_result"
    }
   ],
   "source": [
    "from sklearn.impute import SimpleImputer\n",
    "\n",
    "num_cols = ['Episode_Length_minutes', 'Host_Popularity_percentage', \n",
    "            'Guest_Popularity_percentage', 'Number_of_Ads']\n",
    "\n",
    "imputer = SimpleImputer(strategy = \"median\")\n",
    "df_encoded[num_cols] = imputer.fit_transform(df_encoded[num_cols])\n",
    "\n",
    "df_encoded[num_cols].isnull().sum()"
   ]
  },
  {
   "cell_type": "markdown",
   "id": "729c2c67-2504-4bd6-ba74-c8b48c41addb",
   "metadata": {},
   "source": [
    "### Training Linear Regression Models"
   ]
  },
  {
   "cell_type": "code",
   "execution_count": 21,
   "id": "0579ca47-5616-4164-b738-a6e52e214fb1",
   "metadata": {},
   "outputs": [
    {
     "name": "stdout",
     "output_type": "stream",
     "text": [
      "Feature Shape: (750000, 27)\n",
      "Target Shape: (750000,)\n",
      "Training set Shape; (600000, 27) (600000,)\n",
      "Validation set Shape; (150000, 27) (150000,)\n",
      "Linear Regression Performance on Validation Set:\n",
      "MAE: 9.772\n",
      "MSE: 178.121\n",
      "RMSE: 13.346\n",
      "R² Score: 0.758\n"
     ]
    }
   ],
   "source": [
    "from sklearn.model_selection import train_test_split\n",
    "from sklearn.linear_model import LinearRegression\n",
    "from sklearn.preprocessing import StandardScaler\n",
    "from sklearn.metrics import mean_absolute_error , mean_squared_error , r2_score\n",
    "import numpy as np\n",
    "import pandas as pd\n",
    "\n",
    "categorical_cols = [col for col in ['Publication_Day', 'Publication_Time', 'Genre', 'Episode_Sentiment'] if col in df_encoded.columns]\n",
    "df_encoded = pd.get_dummies(\n",
    "    df_encoded,\n",
    "    columns = categorical_cols,\n",
    "    drop_first = True\n",
    ")\n",
    "\n",
    "freq_encoding = df_encoded[\"Podcast_Name\"].value_counts() / len(df_encoded)\n",
    "df_encoded[\"Podcast_Name_FE\"] = df_encoded[\"Podcast_Name\"].map(freq_encoding)\n",
    "\n",
    "df_encoded = df_encoded.drop(columns = [\"Episode_Title\" , \"Podcast_Name\"])\n",
    "\n",
    "numeric_cols = ['Episode_Length_minutes', 'Host_Popularity_percentage', 'Guest_Popularity_percentage', 'Number_of_Ads']\n",
    "df_encoded[numeric_cols] = df_encoded[numeric_cols].fillna(df_encoded[numeric_cols].median())\n",
    "\n",
    "scaler = StandardScaler()\n",
    "df_encoded[numeric_cols] = scaler.fit_transform(df_encoded[numeric_cols])\n",
    "\n",
    "\n",
    "x = df_encoded.drop(columns = [\"Listening_Time_minutes\" , \"id\"])\n",
    "y = df_encoded[\"Listening_Time_minutes\"]\n",
    "\n",
    "print(\"Feature Shape:\" , x.shape)\n",
    "print(\"Target Shape:\" , y.shape)\n",
    "\n",
    "\n",
    "x_train , x_val , y_train , y_val = train_test_split(x , y , test_size = 0.2 , random_state = 42)\n",
    "\n",
    "print(\"Training set Shape;\" , x_train.shape , y_train.shape)\n",
    "print(\"Validation set Shape;\" , x_val.shape , y_val.shape)\n",
    "\n",
    "\n",
    "lr_model = LinearRegression()\n",
    "lr_model.fit(x_train , y_train)\n",
    "\n",
    "y_pred = lr_model.predict(x_val)\n",
    "\n",
    "mae = mean_absolute_error(y_val , y_pred)\n",
    "mse = mean_squared_error(y_val , y_pred)\n",
    "rmse = np.sqrt(mse)\n",
    "r2 = r2_score(y_val , y_pred)\n",
    "\n",
    "print(\"Linear Regression Performance on Validation Set:\")\n",
    "print(f\"MAE: {mae:.3f}\")\n",
    "print(f\"MSE: {mse:.3f}\")\n",
    "print(f\"RMSE: {rmse:.3f}\")\n",
    "print(f\"R² Score: {r2:.3f}\")"
   ]
  },
  {
   "cell_type": "markdown",
   "id": "7cb1c50c-7ea3-4c03-ac62-ad1092ef4b27",
   "metadata": {},
   "source": [
    "## Random Forest Regressor"
   ]
  },
  {
   "cell_type": "code",
   "execution_count": 22,
   "id": "4e55bab3-d37e-4800-846f-606cb0544e54",
   "metadata": {},
   "outputs": [
    {
     "name": "stdout",
     "output_type": "stream",
     "text": [
      "Random Forest Performance on Validation Set:\n",
      "MAE: 9.023\n",
      "MSE: 161.677\n",
      "RMSE: 13.346\n",
      "R² Score: 0.780\n"
     ]
    }
   ],
   "source": [
    "from sklearn.ensemble import RandomForestRegressor\n",
    "from sklearn.metrics import mean_absolute_error , mean_squared_error , r2_score\n",
    "import numpy as np\n",
    "\n",
    "rf_model = RandomForestRegressor(\n",
    "    n_estimators = 100,\n",
    "    max_depth = None,\n",
    "    random_state = 42,\n",
    "    n_jobs = -1\n",
    ")\n",
    "\n",
    "rf_model.fit(x_train , y_train)\n",
    "\n",
    "y_pred_rf = rf_model.predict(x_val)\n",
    "\n",
    "mae_rf = mean_absolute_error(y_val , y_pred_rf)\n",
    "mse_rf = mean_squared_error(y_val , y_pred_rf)\n",
    "rmse_rf = np.sqrt(mse)\n",
    "r2_rf = r2_score(y_val , y_pred_rf)\n",
    "\n",
    "print(\"Random Forest Performance on Validation Set:\")\n",
    "print(f\"MAE: {mae_rf:.3f}\")\n",
    "print(f\"MSE: {mse_rf:.3f}\")\n",
    "print(f\"RMSE: {rmse_rf:.3f}\")\n",
    "print(f\"R² Score: {r2_rf:.3f}\")"
   ]
  },
  {
   "cell_type": "markdown",
   "id": "d080eada-1475-4d4c-9e6b-85f57ecf21dc",
   "metadata": {},
   "source": [
    "## Hyperparameter Tuning"
   ]
  },
  {
   "cell_type": "code",
   "execution_count": 24,
   "id": "dacb5e0d-6374-4336-81a0-8ed8bc1b9d84",
   "metadata": {},
   "outputs": [
    {
     "name": "stdout",
     "output_type": "stream",
     "text": [
      "Fitting 2 folds for each of 10 candidates, totalling 20 fits\n",
      "Best Hyperparameters: {'n_estimators': 100, 'min_samples_split': 2, 'min_samples_leaf': 2, 'max_features': 'sqrt', 'max_depth': None}\n",
      "Tuned Random Forest Performance on Validation Set:\n",
      "MAE: 9.372\n",
      "MSE: 166.834\n",
      "RMSE: 12.916\n",
      "R² Score: 0.773\n"
     ]
    }
   ],
   "source": [
    "from sklearn.ensemble import RandomForestRegressor\n",
    "from sklearn.model_selection import RandomizedSearchCV\n",
    "from sklearn.metrics import mean_absolute_error , mean_squared_error , r2_score\n",
    "import numpy as np\n",
    "\n",
    "rf_model = RandomForestRegressor(random_state = 42 , n_jobs = -1)\n",
    "\n",
    "param_dist = {\n",
    "    \"n_estimators\": [100 , 200],\n",
    "    \"max_depth\": [None , 10 , 20],\n",
    "    \"min_samples_split\": [2 , 5],\n",
    "    \"min_samples_leaf\": [1 , 2],\n",
    "    \"max_features\": [\"sqrt\" , \"log2\"]\n",
    "}\n",
    "\n",
    "random_search = RandomizedSearchCV(\n",
    "    estimator = rf_model,\n",
    "    param_distributions = param_dist,\n",
    "    n_iter = 10,\n",
    "    cv = 2,\n",
    "    verbose = 2,\n",
    "    random_state = 42,\n",
    "    n_jobs = -1,\n",
    "    scoring = \"r2\"\n",
    ")\n",
    "\n",
    "x_train_sample = x_train.sample(50000 , random_state = 42)\n",
    "y_train_sample = y_train.loc[x_train_sample.index]\n",
    "\n",
    "random_search.fit(x_train , y_train)\n",
    "\n",
    "print(\"Best Hyperparameters:\" , random_search.best_params_)\n",
    "\n",
    "best_rf = random_search.best_estimator_\n",
    "y_pred_rf = best_rf.predict(x_val)\n",
    "\n",
    "mae = mean_absolute_error(y_val , y_pred_rf)\n",
    "mse = mean_squared_error(y_val , y_pred_rf)\n",
    "rmse = np.sqrt(mse)\n",
    "r2 = r2_score(y_val , y_pred_rf)\n",
    "\n",
    "print(\"Tuned Random Forest Performance on Validation Set:\")\n",
    "print(f\"MAE: {mae:.3f}\")\n",
    "print(f\"MSE: {mse:.3f}\")\n",
    "print(f\"RMSE: {rmse:.3f}\")\n",
    "print(f\"R² Score: {r2:.3f}\")"
   ]
  },
  {
   "cell_type": "markdown",
   "id": "993d89ce-fe64-4acc-abd3-7f947016b873",
   "metadata": {},
   "source": [
    "### XGBoost"
   ]
  },
  {
   "cell_type": "code",
   "execution_count": 32,
   "id": "30ce5ea6-6b73-43a0-8aac-9bc313ed312f",
   "metadata": {},
   "outputs": [
    {
     "name": "stdout",
     "output_type": "stream",
     "text": [
      "Baseline XGBoost Performance:\n",
      "MAE: 9.467\n",
      "MSE: 169.694\n",
      "RMSE: 13.027\n",
      "R² Score: 0.769\n",
      "Fitting 2 folds for each of 10 candidates, totalling 20 fits\n",
      "Best Hyperparameters: {'subsample': 0.8, 'n_estimators': 200, 'min_child_weight': 5, 'max_depth': 10, 'learning_rate': 0.05, 'colsample_bytree': 0.8}\n",
      "\n",
      "Tuned XGBoost Performance on validation set:\n",
      "MAE: 9.386\n",
      "MSE: 167.234\n",
      "RMSE: 12.932\n",
      "R² Score: 0.773\n"
     ]
    }
   ],
   "source": [
    "import numpy as np\n",
    "import pandas as pd\n",
    "from sklearn.model_selection import train_test_split , RandomizedSearchCV\n",
    "from sklearn.metrics import mean_absolute_error , mean_squared_error , r2_score\n",
    "from xgboost import XGBRegressor\n",
    "\n",
    "x_train , x_val , y_train , y_val = train_test_split(x , y , test_size = 0.2 , random_state = 42)\n",
    "\n",
    "xgb_base = XGBRegressor(random_state = 42 , verbosity = 0 , n_jobs = -1)\n",
    "xgb_base.fit(x_train , y_train)\n",
    "y_pred_base = xgb_base.predict(x_val)\n",
    "\n",
    "print(\"Baseline XGBoost Performance:\")\n",
    "print(f\"MAE:\" , round(mean_absolute_error(y_val , y_pred_base) , 3))\n",
    "print(f\"MSE:\" , round(mean_squared_error(y_val , y_pred_base) , 3))\n",
    "print(f\"RMSE:\" , round(np.sqrt(mean_squared_error(y_val , y_pred_base)) , 3))\n",
    "print(f\"R² Score:\" , round(r2_score(y_val , y_pred_base) , 3))\n",
    "\n",
    "param_dist = {\n",
    "    \"n_estimators\": [100 , 200 , 300],\n",
    "    \"max_depth\": [3 , 5 , 7 , 10],\n",
    "    \"learning_rate\": [0.01 , 0.05 , 0.1],\n",
    "    \"subsample\": [0.6 , 0.8 , 1],\n",
    "    \"colsample_bytree\": [0.6 , 0.8 , 1.0],\n",
    "    \"min_child_weight\": [1 , 3 , 5]\n",
    "}\n",
    "\n",
    "xgb_model = XGBRegressor(objective = \"reg:squarederror\" , random_state = 42 , n_jobs = -1 , verbosity = 0)\n",
    "\n",
    "random_search = RandomizedSearchCV(\n",
    "    estimator = xgb_model,\n",
    "    param_distributions = param_dist,\n",
    "    n_iter = 10,\n",
    "    cv = 2,\n",
    "    verbose = 1,\n",
    "    random_state = 42,\n",
    "    n_jobs = -1,\n",
    "    scoring = \"r2\"\n",
    ")\n",
    "\n",
    "random_search.fit(x_train , y_train)\n",
    "\n",
    "print(\"Best Hyperparameters:\" , random_search.best_params_)\n",
    "\n",
    "best_xgb = random_search.best_estimator_\n",
    "y_pred_tuned = best_xgb.predict(x_val)\n",
    "\n",
    "print(\"\\nTuned XGBoost Performance on validation set:\")\n",
    "print(\"MAE:\" , round(mean_absolute_error(y_val , y_pred_tuned) , 3))\n",
    "print(\"MSE:\" , round(mean_squared_error(y_val , y_pred_tuned) , 3))\n",
    "print(\"RMSE:\" , round(np.sqrt(mean_squared_error(y_val , y_pred_tuned)) , 3))\n",
    "print(\"R² Score:\" , round(r2_score(y_val , y_pred_tuned) , 3))"
   ]
  },
  {
   "cell_type": "markdown",
   "id": "a92de153-237f-4cc4-8f7e-3bc88bed884a",
   "metadata": {},
   "source": [
    "### Saving"
   ]
  },
  {
   "cell_type": "code",
   "execution_count": 45,
   "id": "be9afc73-d0a2-4dc3-824c-64d3b1c092a2",
   "metadata": {},
   "outputs": [
    {
     "name": "stdout",
     "output_type": "stream",
     "text": [
      "Model Saved as xgboost_tuned_model.pkl\n"
     ]
    }
   ],
   "source": [
    "import joblib\n",
    "\n",
    "joblib.dump(best_xgb , \"xgboost_tuned_model.pkl\")\n",
    "print(\"Model Saved as xgboost_tuned_model.pkl\")"
   ]
  },
  {
   "cell_type": "code",
   "execution_count": 48,
   "id": "e13844dc-1513-4fbc-a7bc-ee911745fc10",
   "metadata": {},
   "outputs": [
    {
     "name": "stdout",
     "output_type": "stream",
     "text": [
      "Prediction Saved to xgboost_predictions.csv\n"
     ]
    }
   ],
   "source": [
    "predictions_df = pd.DataFrame({\n",
    "    \"Actual\": y_val.values,\n",
    "    \"Predicted\": y_pred\n",
    "})\n",
    "predictions_df.to_csv(\"xgboost_predictions.csv\" , index = False)\n",
    "print(\"Prediction Saved to xgboost_predictions.csv\")"
   ]
  },
  {
   "cell_type": "code",
   "execution_count": null,
   "id": "bea9206a-5ed4-4aae-b182-d4a3b5435c30",
   "metadata": {},
   "outputs": [],
   "source": []
  }
 ],
 "metadata": {
  "kernelspec": {
   "display_name": "Python 3 (ipykernel)",
   "language": "python",
   "name": "python3"
  },
  "language_info": {
   "codemirror_mode": {
    "name": "ipython",
    "version": 3
   },
   "file_extension": ".py",
   "mimetype": "text/x-python",
   "name": "python",
   "nbconvert_exporter": "python",
   "pygments_lexer": "ipython3",
   "version": "3.13.5"
  }
 },
 "nbformat": 4,
 "nbformat_minor": 5
}
